{
 "cells": [
  {
   "cell_type": "markdown",
   "id": "9d553dfc",
   "metadata": {},
   "source": [
    "### EDA before preprocessing"
   ]
  },
  {
   "cell_type": "code",
   "execution_count": 28,
   "id": "d06da757",
   "metadata": {},
   "outputs": [],
   "source": [
    "import pandas as pd"
   ]
  },
  {
   "cell_type": "code",
   "execution_count": 29,
   "id": "c9fd3dc6",
   "metadata": {},
   "outputs": [],
   "source": [
    "df_cab_ride = pd.read_csv('../Dataset/cab_rides.csv')\n",
    "df_weather = pd.read_csv('../Dataset/weather.csv')"
   ]
  },
  {
   "cell_type": "code",
   "execution_count": 30,
   "id": "21324ba2",
   "metadata": {},
   "outputs": [
    {
     "name": "stdout",
     "output_type": "stream",
     "text": [
      "Missing values in the Cab rides dataset:\n",
      "                  Missing count  Missing %\n",
      "distance                      0       0.00\n",
      "cab_type                      0       0.00\n",
      "time_stamp                    0       0.00\n",
      "destination                   0       0.00\n",
      "source                        0       0.00\n",
      "price                     55095       7.95\n",
      "surge_multiplier              0       0.00\n",
      "id                            0       0.00\n",
      "product_id                    0       0.00\n",
      "name                          0       0.00\n",
      "Missing values in the Weather dataset:\n",
      "            Missing count  Missing %\n",
      "temp                    0       0.00\n",
      "location                0       0.00\n",
      "clouds                  0       0.00\n",
      "pressure                0       0.00\n",
      "rain                 5382      85.76\n",
      "time_stamp              0       0.00\n",
      "humidity                0       0.00\n",
      "wind                    0       0.00\n"
     ]
    }
   ],
   "source": [
    "def check_missing_values(df):\n",
    "    missing_values_series = df.isnull().sum()\n",
    "    total = len(df)\n",
    "    missing_df = pd.DataFrame({\n",
    "        'Missing count': missing_values_series,\n",
    "        'Missing %': (missing_values_series / total * 100).round(2)\n",
    "    })\n",
    "    return missing_df\n",
    "\n",
    "print(\"Missing values in the Cab rides dataset:\")\n",
    "print(check_missing_values(df_cab_ride))\n",
    "print(\"Missing values in the Weather dataset:\")\n",
    "print(check_missing_values(df_weather))"
   ]
  },
  {
   "cell_type": "code",
   "execution_count": 31,
   "id": "eda4c650",
   "metadata": {},
   "outputs": [
    {
     "name": "stdout",
     "output_type": "stream",
     "text": [
      "Duplicate rows in the Cab rides dataset:\n",
      "     Dataset  Duplicated count  Duplicated %\n",
      "0  Cab rides                 0           0.0\n",
      "Duplicate rows in the Weather dataset:\n",
      "   Dataset  Duplicated count  Duplicated %\n",
      "0  Weather                 0           0.0\n"
     ]
    }
   ],
   "source": [
    "def check_duplicated_rows(df, name):\n",
    "    duplicated_rows = df.duplicated().sum()\n",
    "    total = len(df)\n",
    "    duplicated_df = pd.DataFrame([{\n",
    "        'Dataset': name,\n",
    "        'Duplicated count': duplicated_rows,\n",
    "        'Duplicated %': round((duplicated_rows / total * 100), 2)\n",
    "    }])\n",
    "    return duplicated_df\n",
    "\n",
    "print(\"Duplicate rows in the Cab rides dataset:\")\n",
    "print(check_duplicated_rows(df_cab_ride, 'Cab rides'))\n",
    "print(\"Duplicate rows in the Weather dataset:\")\n",
    "print(check_duplicated_rows(df_weather, 'Weather'))"
   ]
  },
  {
   "cell_type": "code",
   "execution_count": 32,
   "id": "5cdb6afd",
   "metadata": {},
   "outputs": [
    {
     "name": "stdout",
     "output_type": "stream",
     "text": [
      "Statistical summary of the Cab rides dataset\n",
      "            distance    time_stamp          price  surge_multiplier\n",
      "count  693071.000000  6.930710e+05  637976.000000     693071.000000\n",
      "mean        2.189430  1.544046e+12      16.545125          1.013870\n",
      "std         1.138937  6.891925e+08       9.324359          0.091641\n",
      "min         0.020000  1.543204e+12       2.500000          1.000000\n",
      "25%         1.280000  1.543444e+12       9.000000          1.000000\n",
      "50%         2.160000  1.543737e+12      13.500000          1.000000\n",
      "75%         2.920000  1.544828e+12      22.500000          1.000000\n",
      "max         7.860000  1.545161e+12      97.500000          3.000000\n",
      "Statistical summary of the Weather dataset:\n",
      "              temp       clouds     pressure        rain    time_stamp  \\\n",
      "count  6276.000000  6276.000000  6276.000000  894.000000  6.276000e+03   \n",
      "mean     39.090475     0.677777  1008.445209    0.057652  1.543857e+09   \n",
      "std       6.022055     0.314284    12.870775    0.100758  6.659340e+05   \n",
      "min      19.620000     0.000000   988.250000    0.000200  1.543204e+09   \n",
      "25%      36.077500     0.440000   997.747500    0.004900  1.543387e+09   \n",
      "50%      40.130000     0.780000  1007.660000    0.014850  1.543514e+09   \n",
      "75%      42.832500     0.970000  1018.480000    0.060925  1.544691e+09   \n",
      "max      55.410000     1.000000  1035.120000    0.780700  1.545159e+09   \n",
      "\n",
      "          humidity         wind  \n",
      "count  6276.000000  6276.000000  \n",
      "mean      0.763985     6.802812  \n",
      "std       0.127340     3.633466  \n",
      "min       0.450000     0.290000  \n",
      "25%       0.670000     3.517500  \n",
      "50%       0.760000     6.570000  \n",
      "75%       0.890000     9.920000  \n",
      "max       0.990000    18.180000  \n"
     ]
    }
   ],
   "source": [
    "def describe_data(df):\n",
    "    return df.describe()\n",
    "\n",
    "print(\"Statistical summary of the Cab rides dataset\")\n",
    "print(describe_data(df_cab_ride))\n",
    "print(\"Statistical summary of the Weather dataset:\")\n",
    "print(describe_data(df_weather))"
   ]
  },
  {
   "cell_type": "code",
   "execution_count": null,
   "id": "30b939e4",
   "metadata": {},
   "outputs": [
    {
     "name": "stdout",
     "output_type": "stream",
     "text": [
      "      location           date_hour  count\n",
      "1     Back Bay 2018-11-26 04:00:00      5\n",
      "2     Back Bay 2018-11-26 05:00:00      8\n",
      "3     Back Bay 2018-11-26 06:00:00     15\n",
      "4     Back Bay 2018-11-26 07:00:00      4\n",
      "5     Back Bay 2018-11-26 08:00:00      3\n",
      "...        ...                 ...    ...\n",
      "3744  West End 2018-12-01 02:00:00      4\n",
      "3820  West End 2018-12-09 23:00:00      2\n",
      "3823  West End 2018-12-10 02:00:00      4\n",
      "3824  West End 2018-12-13 03:00:00      2\n",
      "3825  West End 2018-12-13 04:00:00      2\n",
      "\n",
      "[900 rows x 3 columns]\n"
     ]
    },
    {
     "name": "stderr",
     "output_type": "stream",
     "text": [
      "C:\\Users\\Huynh Thi Tuyet Ngoc\\AppData\\Local\\Temp\\ipykernel_5476\\4064011547.py:2: FutureWarning: 'H' is deprecated and will be removed in a future version, please use 'h' instead.\n",
      "  df_weather['date_hour'] = pd.to_datetime(df_weather['datetime']).dt.floor('H')\n"
     ]
    }
   ],
   "source": [
    "print('Problem in \"Weather\" dataset')\n",
    "df_weather['datetime'] = pd.to_datetime(df_weather['time_stamp'], unit='s')\n",
    "df_weather['date_hour'] = pd.to_datetime(df_weather['datetime']).dt.floor('H')\n",
    "\n",
    "record_counts = df_weather.groupby(['location', 'date_hour']).size().reset_index(name='count')\n",
    "duplicates = record_counts[record_counts['count'] > 1]\n",
    "\n",
    "print(duplicates)"
   ]
  }
 ],
 "metadata": {
  "kernelspec": {
   "display_name": "Python 3",
   "language": "python",
   "name": "python3"
  },
  "language_info": {
   "codemirror_mode": {
    "name": "ipython",
    "version": 3
   },
   "file_extension": ".py",
   "mimetype": "text/x-python",
   "name": "python",
   "nbconvert_exporter": "python",
   "pygments_lexer": "ipython3",
   "version": "3.11.9"
  }
 },
 "nbformat": 4,
 "nbformat_minor": 5
}
