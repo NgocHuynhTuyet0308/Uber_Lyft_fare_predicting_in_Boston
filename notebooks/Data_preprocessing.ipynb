{
 "cells": [
  {
   "cell_type": "code",
   "execution_count": 37,
   "id": "b0b878a6",
   "metadata": {},
   "outputs": [],
   "source": [
    "import pandas as pd"
   ]
  },
  {
   "cell_type": "code",
   "execution_count": 38,
   "id": "8766c4d4",
   "metadata": {},
   "outputs": [],
   "source": [
    "df_cabride = pd.read_csv('../Dataset/cab_rides.csv')\n",
    "df_weather = pd.read_csv('../Dataset/weather.csv')"
   ]
  },
  {
   "cell_type": "code",
   "execution_count": 39,
   "id": "293df364",
   "metadata": {},
   "outputs": [
    {
     "name": "stdout",
     "output_type": "stream",
     "text": [
      "The Cab rides dataset shape:  (637976, 10)\n"
     ]
    }
   ],
   "source": [
    "def remove_missing_values(df):\n",
    "    return df.dropna()\n",
    "\n",
    "df_cabride = remove_missing_values(df_cabride)\n",
    "print(\"The Cab rides dataset shape: \", df_cabride.shape)"
   ]
  },
  {
   "cell_type": "code",
   "execution_count": 40,
   "id": "95e21126",
   "metadata": {},
   "outputs": [
    {
     "name": "stdout",
     "output_type": "stream",
     "text": [
      "The Weather dataset shape:  (6276, 8)\n"
     ]
    }
   ],
   "source": [
    "def filling_missing_values(df):\n",
    "    return df.fillna(value=0)\n",
    "\n",
    "df_weather = filling_missing_values(df_weather)\n",
    "print(\"The Weather dataset shape: \", df_weather.shape)"
   ]
  },
  {
   "cell_type": "code",
   "execution_count": 41,
   "id": "6b28550c",
   "metadata": {},
   "outputs": [
    {
     "name": "stdout",
     "output_type": "stream",
     "text": [
      "The columns in Cab rides dataset:  Index(['distance', 'cab_type', 'time_stamp', 'destination', 'source', 'price',\n",
      "       'surge_multiplier', 'id', 'product_id', 'name', 'datetime', 'date',\n",
      "       'time', 'date_hour'],\n",
      "      dtype='object')\n",
      "The columns in Weather dataset:  Index(['temp', 'location', 'clouds', 'pressure', 'rain', 'time_stamp',\n",
      "       'humidity', 'wind', 'datetime', 'date', 'time', 'date_hour'],\n",
      "      dtype='object')\n"
     ]
    }
   ],
   "source": [
    "def convert_timestamp_to_datetime(df, unit):\n",
    "    df['datetime'] = pd.to_datetime(df['time_stamp'], unit=unit)\n",
    "    df['date'] = df['datetime'].dt.date\n",
    "    df['time'] = df['datetime'].dt.time\n",
    "    df['date_hour'] = df['date'].astype(str) + ' ' + df['datetime'].dt.hour.astype(str)\n",
    "    return df\n",
    "\n",
    "df_cabride = convert_timestamp_to_datetime(df_cabride, 'ms')\n",
    "df_weather = convert_timestamp_to_datetime(df_weather, 's')\n",
    "\n",
    "print(\"The columns in Cab rides dataset: \", df_cabride.columns)\n",
    "print(\"The columns in Weather dataset: \", df_weather.columns)"
   ]
  },
  {
   "cell_type": "code",
   "execution_count": 43,
   "id": "85435ae3",
   "metadata": {},
   "outputs": [
    {
     "name": "stdout",
     "output_type": "stream",
     "text": [
      "The Weather dataset shape:  (3960, 8)\n",
      "      location      date_hour    temp  clouds  pressure    rain  humidity  \\\n",
      "0     Back Bay  2018-11-26 10  40.695   0.995  1014.800  0.0000     0.940   \n",
      "1     Back Bay  2018-11-26 11  40.185   0.955  1015.305  0.0000     0.940   \n",
      "2     Back Bay  2018-11-26 12  40.315   0.920  1015.275  0.0000     0.935   \n",
      "3     Back Bay  2018-11-26 13  41.950   0.910  1015.200  0.0031     0.910   \n",
      "4     Back Bay  2018-11-26 14  42.765   0.905  1014.695  0.0044     0.910   \n",
      "...        ...            ...     ...     ...       ...     ...       ...   \n",
      "3955  West End   2018-12-18 5  34.720   0.810  1001.740  0.0371     0.650   \n",
      "3956  West End   2018-12-18 6  33.340   1.000  1002.440  0.0000     0.620   \n",
      "3957  West End   2018-12-18 7  29.930   1.000  1003.150  0.0000     0.590   \n",
      "3958  West End   2018-12-18 8  28.320   0.970  1005.300  0.0000     0.560   \n",
      "3959  West End   2018-12-18 9  27.340   0.800  1006.060  0.0000     0.540   \n",
      "\n",
      "        wind  \n",
      "0      1.895  \n",
      "1      2.260  \n",
      "2      2.940  \n",
      "3      3.545  \n",
      "4      2.960  \n",
      "...      ...  \n",
      "3955  11.880  \n",
      "3956  13.340  \n",
      "3957  13.080  \n",
      "3958  15.550  \n",
      "3959  17.450  \n",
      "\n",
      "[3960 rows x 8 columns]\n"
     ]
    }
   ],
   "source": [
    "def remain_1record_1hour(df):\n",
    "    mean = df.groupby(['location', 'date_hour'])[['temp', 'clouds', 'pressure', 'rain', 'humidity', 'wind']].mean().reset_index()\n",
    "    return mean\n",
    "\n",
    "df_weather = remain_1record_1hour(df_weather)\n",
    "print(\"The Weather dataset shape: \", df_weather.shape)\n",
    "print(df_weather)"
   ]
  },
  {
   "cell_type": "code",
   "execution_count": 44,
   "id": "5a65262e",
   "metadata": {},
   "outputs": [
    {
     "name": "stdout",
     "output_type": "stream",
     "text": [
      "        distance cab_type     time_stamp    destination            source  \\\n",
      "0           0.44     Lyft  1544952607890  North Station  Haymarket Square   \n",
      "1           0.44     Lyft  1543284023677  North Station  Haymarket Square   \n",
      "2           0.44     Lyft  1543366822198  North Station  Haymarket Square   \n",
      "3           0.44     Lyft  1543553582749  North Station  Haymarket Square   \n",
      "4           0.44     Lyft  1543463360223  North Station  Haymarket Square   \n",
      "...          ...      ...            ...            ...               ...   \n",
      "693065      1.00     Uber  1543708385534      North End          West End   \n",
      "693066      1.00     Uber  1543708385534      North End          West End   \n",
      "693067      1.00     Uber  1543708385534      North End          West End   \n",
      "693069      1.00     Uber  1543708385534      North End          West End   \n",
      "693070      1.00     Uber  1543708385534      North End          West End   \n",
      "\n",
      "        price  surge_multiplier                                    id  \\\n",
      "0         5.0               1.0  424553bb-7174-41ea-aeb4-fe06d4f4b9d7   \n",
      "1        11.0               1.0  4bd23055-6827-41c6-b23b-3c491f24e74d   \n",
      "2         7.0               1.0  981a3613-77af-4620-a42a-0c0866077d1e   \n",
      "3        26.0               1.0  c2d88af2-d278-4bfd-a8d0-29ca77cc5512   \n",
      "4         9.0               1.0  e0126e1f-8ca9-4f2e-82b3-50505a09db9a   \n",
      "...       ...               ...                                   ...   \n",
      "693065    9.5               1.0  353e6566-b272-479e-a9c6-98bd6cb23f25   \n",
      "693066   13.0               1.0  616d3611-1820-450a-9845-a9ff304a4842   \n",
      "693067    9.5               1.0  633a3fc3-1f86-4b9e-9d48-2b7132112341   \n",
      "693069   27.0               1.0  727e5f07-a96b-4ad1-a2c7-9abc3ad55b4e   \n",
      "693070   10.0               1.0  e7fdc087-fe86-40a5-a3c3-3b2a8badcbda   \n",
      "\n",
      "                                  product_id          name  \\\n",
      "0                                  lyft_line        Shared   \n",
      "1                               lyft_premier           Lux   \n",
      "2                                       lyft          Lyft   \n",
      "3                                lyft_luxsuv  Lux Black XL   \n",
      "4                                  lyft_plus       Lyft XL   \n",
      "...                                      ...           ...   \n",
      "693065  9a0e7b09-b92b-4c41-9779-2ad22b4d779d           WAV   \n",
      "693066  6f72dfc5-27f1-42e8-84db-ccc7a75f6969        UberXL   \n",
      "693067  55c66225-fbe7-4fd5-9072-eab1ece5e23e         UberX   \n",
      "693069  6d318bcc-22a3-4af6-bddd-b409bfce1546     Black SUV   \n",
      "693070  997acbb5-e102-41e1-b155-9df7de0a73f2      UberPool   \n",
      "\n",
      "                      datetime        date             time      date_hour  \\\n",
      "0      2018-12-16 09:30:07.890  2018-12-16  09:30:07.890000   2018-12-16 9   \n",
      "1      2018-11-27 02:00:23.677  2018-11-27  02:00:23.677000   2018-11-27 2   \n",
      "2      2018-11-28 01:00:22.198  2018-11-28  01:00:22.198000   2018-11-28 1   \n",
      "3      2018-11-30 04:53:02.749  2018-11-30  04:53:02.749000   2018-11-30 4   \n",
      "4      2018-11-29 03:49:20.223  2018-11-29  03:49:20.223000   2018-11-29 3   \n",
      "...                        ...         ...              ...            ...   \n",
      "693065 2018-12-01 23:53:05.534  2018-12-01  23:53:05.534000  2018-12-01 23   \n",
      "693066 2018-12-01 23:53:05.534  2018-12-01  23:53:05.534000  2018-12-01 23   \n",
      "693067 2018-12-01 23:53:05.534  2018-12-01  23:53:05.534000  2018-12-01 23   \n",
      "693069 2018-12-01 23:53:05.534  2018-12-01  23:53:05.534000  2018-12-01 23   \n",
      "693070 2018-12-01 23:53:05.534  2018-12-01  23:53:05.534000  2018-12-01 23   \n",
      "\n",
      "             category  \n",
      "0         shared ride  \n",
      "1               other  \n",
      "2            standard  \n",
      "3          luxury SUV  \n",
      "4       large vehicle  \n",
      "...               ...  \n",
      "693065          other  \n",
      "693066  large vehicle  \n",
      "693067       standard  \n",
      "693069     luxury SUV  \n",
      "693070    shared ride  \n",
      "\n",
      "[637976 rows x 15 columns]\n"
     ]
    }
   ],
   "source": [
    "categories = {\n",
    "    'UberX': 'standard',\n",
    "    'Lyft': 'standard',\n",
    "    'UberPool': 'shared ride',\n",
    "    'Shared': 'shared ride',\n",
    "    'UberXL': 'large vehicle',\n",
    "    'Lyft XL': 'large vehicle',\n",
    "    'Black': 'luxury',\n",
    "    'Lux Black': 'luxury',\n",
    "    'Black SUV': 'luxury SUV',\n",
    "    'Lux Black XL': 'luxury SUV',\n",
    "    'Lux': 'other',\n",
    "    'WAV': 'other',\n",
    "    'Taxi': 'other'\n",
    "}\n",
    "\n",
    "df_cabride['category'] = df_cabride['name'].map(categories)\n",
    "print(df_cabride)"
   ]
  },
  {
   "cell_type": "code",
   "execution_count": 45,
   "id": "cef0e7ef",
   "metadata": {},
   "outputs": [
    {
     "name": "stdout",
     "output_type": "stream",
     "text": [
      "        distance cab_type     time_stamp    destination            source  \\\n",
      "0           0.44     Lyft  1544952607890  North Station  Haymarket Square   \n",
      "1           0.44     Lyft  1543284023677  North Station  Haymarket Square   \n",
      "2           0.44     Lyft  1543553582749  North Station  Haymarket Square   \n",
      "3           0.44     Lyft  1543463360223  North Station  Haymarket Square   \n",
      "4           0.44     Lyft  1545071112138  North Station  Haymarket Square   \n",
      "...          ...      ...            ...            ...               ...   \n",
      "635237      1.00     Uber  1543708385534      North End          West End   \n",
      "635238      1.00     Uber  1543708385534      North End          West End   \n",
      "635239      1.00     Uber  1543708385534      North End          West End   \n",
      "635240      1.00     Uber  1543708385534      North End          West End   \n",
      "635241      1.00     Uber  1543708385534      North End          West End   \n",
      "\n",
      "        price  surge_multiplier                                    id  \\\n",
      "0         5.0               1.0  424553bb-7174-41ea-aeb4-fe06d4f4b9d7   \n",
      "1        11.0               1.0  4bd23055-6827-41c6-b23b-3c491f24e74d   \n",
      "2        26.0               1.0  c2d88af2-d278-4bfd-a8d0-29ca77cc5512   \n",
      "3         9.0               1.0  e0126e1f-8ca9-4f2e-82b3-50505a09db9a   \n",
      "4        16.5               1.0  f6f6d7e4-3e18-4922-a5f5-181cdd3fa6f2   \n",
      "...       ...               ...                                   ...   \n",
      "635237    9.5               1.0  353e6566-b272-479e-a9c6-98bd6cb23f25   \n",
      "635238   13.0               1.0  616d3611-1820-450a-9845-a9ff304a4842   \n",
      "635239    9.5               1.0  633a3fc3-1f86-4b9e-9d48-2b7132112341   \n",
      "635240   27.0               1.0  727e5f07-a96b-4ad1-a2c7-9abc3ad55b4e   \n",
      "635241   10.0               1.0  e7fdc087-fe86-40a5-a3c3-3b2a8badcbda   \n",
      "\n",
      "                                  product_id          name  ...  \\\n",
      "0                                  lyft_line        Shared  ...   \n",
      "1                               lyft_premier           Lux  ...   \n",
      "2                                lyft_luxsuv  Lux Black XL  ...   \n",
      "3                                  lyft_plus       Lyft XL  ...   \n",
      "4                                   lyft_lux     Lux Black  ...   \n",
      "...                                      ...           ...  ...   \n",
      "635237  9a0e7b09-b92b-4c41-9779-2ad22b4d779d           WAV  ...   \n",
      "635238  6f72dfc5-27f1-42e8-84db-ccc7a75f6969        UberXL  ...   \n",
      "635239  55c66225-fbe7-4fd5-9072-eab1ece5e23e         UberX  ...   \n",
      "635240  6d318bcc-22a3-4af6-bddd-b409bfce1546     Black SUV  ...   \n",
      "635241  997acbb5-e102-41e1-b155-9df7de0a73f2      UberPool  ...   \n",
      "\n",
      "                   time      date_hour       category          location  \\\n",
      "0       09:30:07.890000   2018-12-16 9    shared ride  Haymarket Square   \n",
      "1       02:00:23.677000   2018-11-27 2          other  Haymarket Square   \n",
      "2       04:53:02.749000   2018-11-30 4     luxury SUV  Haymarket Square   \n",
      "3       03:49:20.223000   2018-11-29 3  large vehicle  Haymarket Square   \n",
      "4       18:25:12.138000  2018-12-17 18         luxury  Haymarket Square   \n",
      "...                 ...            ...            ...               ...   \n",
      "635237  23:53:05.534000  2018-12-01 23          other          West End   \n",
      "635238  23:53:05.534000  2018-12-01 23  large vehicle          West End   \n",
      "635239  23:53:05.534000  2018-12-01 23       standard          West End   \n",
      "635240  23:53:05.534000  2018-12-01 23     luxury SUV          West End   \n",
      "635241  23:53:05.534000  2018-12-01 23    shared ride          West End   \n",
      "\n",
      "          temp    clouds  pressure   rain  humidity   wind  \n",
      "0       38.460  0.290000   1022.25  0.000  0.760000   7.68  \n",
      "1       44.065  0.995000   1002.88  0.106  0.895000  12.63  \n",
      "2       35.080  0.000000   1013.71  0.000  0.700000   5.25  \n",
      "3       37.680  0.433333    998.42  0.000  0.706667  11.16  \n",
      "4       40.780  0.930000   1000.15  0.000  0.790000   7.55  \n",
      "...        ...       ...       ...    ...       ...    ...  \n",
      "635237  36.690  0.410000   1023.64  0.000  0.760000   2.51  \n",
      "635238  36.690  0.410000   1023.64  0.000  0.760000   2.51  \n",
      "635239  36.690  0.410000   1023.64  0.000  0.760000   2.51  \n",
      "635240  36.690  0.410000   1023.64  0.000  0.760000   2.51  \n",
      "635241  36.690  0.410000   1023.64  0.000  0.760000   2.51  \n",
      "\n",
      "[635242 rows x 22 columns]\n"
     ]
    }
   ],
   "source": [
    "def create_merge_data(df_cabride, df_weather):\n",
    "    df_merge = pd.merge(df_cabride, df_weather, left_on=['source', 'date_hour'], right_on=['location', 'date_hour'])\n",
    "    return df_merge\n",
    "\n",
    "df_merge = create_merge_data(df_cabride, df_weather)\n",
    "print(df_merge)"
   ]
  }
 ],
 "metadata": {
  "kernelspec": {
   "display_name": "Python 3",
   "language": "python",
   "name": "python3"
  },
  "language_info": {
   "codemirror_mode": {
    "name": "ipython",
    "version": 3
   },
   "file_extension": ".py",
   "mimetype": "text/x-python",
   "name": "python",
   "nbconvert_exporter": "python",
   "pygments_lexer": "ipython3",
   "version": "3.11.9"
  }
 },
 "nbformat": 4,
 "nbformat_minor": 5
}
