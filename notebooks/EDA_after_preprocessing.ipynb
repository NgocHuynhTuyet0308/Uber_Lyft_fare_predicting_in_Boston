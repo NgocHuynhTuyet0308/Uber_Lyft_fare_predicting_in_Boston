{
 "cells": [
  {
   "cell_type": "code",
   "execution_count": 2,
   "id": "8cfd7bee",
   "metadata": {},
   "outputs": [],
   "source": [
    "import pandas as pd"
   ]
  },
  {
   "cell_type": "code",
   "execution_count": 3,
   "id": "3b9bded9",
   "metadata": {},
   "outputs": [],
   "source": [
    "df_cab_rides_preprocessed = pd.read_csv('../Dataset/cab_ride_preprocessed.csv')\n",
    "df_weather_preprocessed = pd.read_csv('../Dataset/weather_preprocessed.csv')\n",
    "df_cabride = pd.read_csv('../Dataset/cab_rides.csv')\n",
    "df_weather = pd.read_csv('../Dataset/weather.csv')"
   ]
  },
  {
   "cell_type": "code",
   "execution_count": 4,
   "id": "d34022de",
   "metadata": {},
   "outputs": [
    {
     "name": "stdout",
     "output_type": "stream",
     "text": [
      "Missing values in the Cab rides dataset after preprocessing:\n",
      "                  Missing count  Missing %\n",
      "distance                      0        0.0\n",
      "cab_type                      0        0.0\n",
      "time_stamp                    0        0.0\n",
      "destination                   0        0.0\n",
      "source                        0        0.0\n",
      "price                         0        0.0\n",
      "surge_multiplier              0        0.0\n",
      "id                            0        0.0\n",
      "product_id                    0        0.0\n",
      "name                          0        0.0\n",
      "datetime                      0        0.0\n",
      "date                          0        0.0\n",
      "time                          0        0.0\n",
      "category                      0        0.0\n",
      "Missing values in the Weather dataset after preprocessing: \n",
      "           Missing count  Missing %\n",
      "date_hour              0        0.0\n",
      "location               0        0.0\n",
      "temp                   0        0.0\n",
      "clouds                 0        0.0\n",
      "pressure               0        0.0\n",
      "rain                   0        0.0\n",
      "humidity               0        0.0\n",
      "wind                   0        0.0\n"
     ]
    }
   ],
   "source": [
    "def check_missing_values(df):\n",
    "    missing_values_series = df.isnull().sum()\n",
    "    total = len(df)\n",
    "    missing_df = pd.DataFrame({\n",
    "        'Missing count': missing_values_series,\n",
    "        'Missing %': (missing_values_series / total * 100).round(2)\n",
    "    })\n",
    "    return missing_df\n",
    "\n",
    "print(\"Missing values in the Cab rides dataset after preprocessing:\")\n",
    "print(check_missing_values(df_cab_rides_preprocessed))\n",
    "print(\"Missing values in the Weather dataset after preprocessing: \")\n",
    "print(check_missing_values(df_weather_preprocessed))"
   ]
  },
  {
   "cell_type": "code",
   "execution_count": 5,
   "id": "c0f2a138",
   "metadata": {},
   "outputs": [
    {
     "name": "stdout",
     "output_type": "stream",
     "text": [
      "{'Cab rides': {'Raw': 693071, 'Preprocessed': 637976, 'Removed': 55095, 'Removed (%)': 7.9, 'Columns': 14}, 'Weather': {'Raw': 6276, 'Preprocessed': 3960, 'Removed': 2316, 'Removed (%)': 36.9, 'Columns': 8}}\n"
     ]
    }
   ],
   "source": [
    "remain_data = dict()\n",
    "raw_cab = len(df_cabride)\n",
    "preprocessed_cab = len(df_cab_rides_preprocessed)\n",
    "removed_cab = raw_cab - preprocessed_cab\n",
    "removed_cab_pct = round(removed_cab / raw_cab * 100, 1)\n",
    "cols_cab = len(df_cab_rides_preprocessed.columns)\n",
    "\n",
    "remain_data['Cab rides'] = {\n",
    "    'Raw': raw_cab,\n",
    "    'Preprocessed': preprocessed_cab,\n",
    "    'Removed': removed_cab,\n",
    "    'Removed (%)': removed_cab_pct,\n",
    "    'Columns': cols_cab\n",
    "}\n",
    "\n",
    "# Weather\n",
    "raw_weather = len(df_weather)\n",
    "preprocessed_weather = len(df_weather_preprocessed)\n",
    "removed_weather = raw_weather - preprocessed_weather\n",
    "removed_weather_pct = round(removed_weather / raw_weather * 100, 1)\n",
    "cols_weather = len(df_weather_preprocessed.columns)\n",
    "\n",
    "remain_data['Weather'] = {\n",
    "    'Raw': raw_weather,\n",
    "    'Preprocessed': preprocessed_weather,\n",
    "    'Removed': removed_weather,\n",
    "    'Removed (%)': removed_weather_pct,\n",
    "    'Columns': cols_weather\n",
    "}\n",
    "\n",
    "print(remain_data)"
   ]
  },
  {
   "cell_type": "code",
   "execution_count": 7,
   "id": "b4ebe970",
   "metadata": {},
   "outputs": [
    {
     "name": "stdout",
     "output_type": "stream",
     "text": [
      "Feature: distance\n",
      "  - Outliers below lower bound: 0\n",
      "  - Outliers above upper bound: 6672\n",
      "----------------------------------------\n",
      "Feature: price\n",
      "  - Outliers below lower bound: 0\n",
      "  - Outliers above upper bound: 5589\n",
      "----------------------------------------\n",
      "Feature: surge_multiplier\n",
      "  - Outliers below lower bound: 0\n",
      "  - Outliers above upper bound: 20975\n",
      "----------------------------------------\n",
      "Feature: temp\n",
      "  - Outliers below lower bound: 106\n",
      "  - Outliers above upper bound: 0\n",
      "----------------------------------------\n",
      "Feature: clouds\n",
      "  - Outliers below lower bound: 0\n",
      "  - Outliers above upper bound: 0\n",
      "----------------------------------------\n",
      "Feature: pressure\n",
      "  - Outliers below lower bound: 0\n",
      "  - Outliers above upper bound: 0\n",
      "----------------------------------------\n",
      "Feature: rain\n",
      "  - Outliers below lower bound: 0\n",
      "  - Outliers above upper bound: 575\n",
      "----------------------------------------\n",
      "Feature: humidity\n",
      "  - Outliers below lower bound: 0\n",
      "  - Outliers above upper bound: 0\n",
      "----------------------------------------\n",
      "Feature: wind\n",
      "  - Outliers below lower bound: 0\n",
      "  - Outliers above upper bound: 0\n",
      "----------------------------------------\n"
     ]
    }
   ],
   "source": [
    "def check_outlier_IQR(data):\n",
    "    Q1 = data.quantile(0.25)\n",
    "    Q3 = data.quantile(0.75)\n",
    "    IQR = Q3 - Q1\n",
    "    lower_bound = Q1 - 1.5 * IQR\n",
    "    upper_bound = Q3 + 1.5 * IQR\n",
    "    outliers_lower_bound, outliers_upper_bound = 0, 0\n",
    "    for value in data:\n",
    "        if value < lower_bound:\n",
    "            outliers_lower_bound += 1 \n",
    "        elif value > upper_bound:\n",
    "            outliers_upper_bound += 1\n",
    "\n",
    "    return outliers_lower_bound, outliers_upper_bound\n",
    "\n",
    "\n",
    "features = ['distance', 'price', 'surge_multiplier',\n",
    "            'temp', 'clouds', 'pressure', 'rain', 'humidity', 'wind']\n",
    "\n",
    "for feature in features:\n",
    "    if feature in ['distance', 'price', 'surge_multiplier']:\n",
    "        data = df_cab_rides_preprocessed[feature]\n",
    "    else:\n",
    "        data = df_weather_preprocessed[feature]\n",
    "\n",
    "    outliers_lower_bound, outliers_upper_bound = check_outlier_IQR(data)\n",
    "    print(f\"Feature: {feature}\")\n",
    "    print(f\"  - Outliers below lower bound: {outliers_lower_bound}\")\n",
    "    print(f\"  - Outliers above upper bound: {outliers_upper_bound}\")\n",
    "    print(\"-\" * 40)"
   ]
  }
 ],
 "metadata": {
  "kernelspec": {
   "display_name": "Python 3",
   "language": "python",
   "name": "python3"
  },
  "language_info": {
   "codemirror_mode": {
    "name": "ipython",
    "version": 3
   },
   "file_extension": ".py",
   "mimetype": "text/x-python",
   "name": "python",
   "nbconvert_exporter": "python",
   "pygments_lexer": "ipython3",
   "version": "3.11.9"
  }
 },
 "nbformat": 4,
 "nbformat_minor": 5
}
